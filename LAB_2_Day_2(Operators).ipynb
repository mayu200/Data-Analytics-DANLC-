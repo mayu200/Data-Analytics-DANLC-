{
  "nbformat": 4,
  "nbformat_minor": 0,
  "metadata": {
    "colab": {
      "provenance": [],
      "authorship_tag": "ABX9TyPwT4qebdNSk4fCAfYYWZJV",
      "include_colab_link": true
    },
    "kernelspec": {
      "name": "python3",
      "display_name": "Python 3"
    },
    "language_info": {
      "name": "python"
    }
  },
  "cells": [
    {
      "cell_type": "markdown",
      "metadata": {
        "id": "view-in-github",
        "colab_type": "text"
      },
      "source": [
        "<a href=\"https://colab.research.google.com/github/mayu200/Data-Analytics-DANLC-/blob/main/LAB_2_Day_2(Operators).ipynb\" target=\"_parent\"><img src=\"https://colab.research.google.com/assets/colab-badge.svg\" alt=\"Open In Colab\"/></a>"
      ]
    },
    {
      "cell_type": "markdown",
      "source": [
        "*Q.1 Write a program for arithmatic operators*"
      ],
      "metadata": {
        "id": "zRF1FLERE0ZO"
      }
    },
    {
      "cell_type": "code",
      "execution_count": 1,
      "metadata": {
        "id": "pkFZndyY_wKw",
        "colab": {
          "base_uri": "https://localhost:8080/",
          "height": 0
        },
        "outputId": "56c15e9d-ef98-49de-8c30-1d1d6d1f6f8f"
      },
      "outputs": [
        {
          "output_type": "stream",
          "name": "stdout",
          "text": [
            "Addition: 15\n",
            "Subtraction: 5\n",
            "Multiplication: 50\n",
            "Division: 2.0\n",
            "Modulus: 0\n",
            "Exponentiation: 100000\n",
            "Floor Division: 2\n"
          ]
        }
      ],
      "source": [
        "# Define two numbers\n",
        "a = 10\n",
        "b = 5\n",
        "\n",
        "# Addition\n",
        "addition = a + b\n",
        "print(\"Addition:\", addition)  # Output: 15\n",
        "\n",
        "# Subtraction\n",
        "subtraction = a - b\n",
        "print(\"Subtraction:\", subtraction)  # Output: 5\n",
        "\n",
        "# Multiplication\n",
        "multiplication = a * b\n",
        "print(\"Multiplication:\", multiplication)  # Output: 50\n",
        "\n",
        "# Division\n",
        "division = a / b\n",
        "print(\"Division:\", division)  # Output: 2.0\n",
        "\n",
        "# Modulus (remainder of the division)\n",
        "modulus = a % b\n",
        "print(\"Modulus:\", modulus)  # Output: 0\n",
        "\n",
        "# Exponentiation (a raised to the power of b)\n",
        "exponentiation = a ** b\n",
        "print(\"Exponentiation:\", exponentiation)  # Output: 100000\n",
        "\n",
        "# Floor Division (division that rounds down to the nearest integer)\n",
        "floor_division = a // b\n",
        "print(\"Floor Division:\", floor_division)  # Output: 2\n"
      ]
    },
    {
      "cell_type": "markdown",
      "source": [
        "Q.2 Write a program for assignment operators\n",
        "\n"
      ],
      "metadata": {
        "id": "s87wnD7cFMs7"
      }
    },
    {
      "cell_type": "code",
      "source": [
        "# Initialize a variable\n",
        "a = 10\n",
        "print(\"Initial value of a:\", a)  # Output: 10\n",
        "\n",
        "# Assignment with addition (a = a + 5)\n",
        "a += 5\n",
        "print(\"After a += 5:\", a)  # Output: 15\n",
        "\n",
        "# Assignment with subtraction (a = a - 3)\n",
        "a -= 3\n",
        "print(\"After a -= 3:\", a)  # Output: 12\n",
        "\n",
        "# Assignment with multiplication (a = a * 2)\n",
        "a *= 2\n",
        "print(\"After a *= 2:\", a)  # Output: 24\n",
        "\n",
        "# Assignment with division (a = a / 4)\n",
        "a /= 4\n",
        "print(\"After a /= 4:\", a)  # Output: 6.0\n",
        "\n",
        "# Assignment with modulus (a = a % 3)\n",
        "a %= 3\n",
        "print(\"After a %= 3:\", a)  # Output: 0.0\n",
        "\n",
        "# Assignment with exponentiation (a = a ** 2)\n",
        "a = 4  # Reset a to 4 for this operation\n",
        "a **= 2\n",
        "print(\"After a **= 2:\", a)  # Output: 16\n",
        "\n",
        "# Assignment with floor division (a = a // 3)\n",
        "a //= 3\n",
        "print(\"After a //= 3:\", a)  # Output: 5\n"
      ],
      "metadata": {
        "colab": {
          "base_uri": "https://localhost:8080/",
          "height": 0
        },
        "id": "uNHI8iPoFQqK",
        "outputId": "bee121ba-2296-47f9-b6ba-fcead3a8eac0"
      },
      "execution_count": 2,
      "outputs": [
        {
          "output_type": "stream",
          "name": "stdout",
          "text": [
            "Initial value of a: 10\n",
            "After a += 5: 15\n",
            "After a -= 3: 12\n",
            "After a *= 2: 24\n",
            "After a /= 4: 6.0\n",
            "After a %= 3: 0.0\n",
            "After a **= 2: 16\n",
            "After a //= 3: 5\n"
          ]
        }
      ]
    },
    {
      "cell_type": "markdown",
      "source": [
        "Q.3Write a program for Bitwise operators\n",
        "\n",
        "Explanation:\n",
        "Bitwise AND (&): Compares each bit of the two numbers and returns 1 if both bits are 1, otherwise 0.\n",
        "\n",
        "Bitwise OR (|): Compares each bit of the two numbers and returns 1 if at least one of the bits is 1.\n",
        "\n",
        "Bitwise XOR (^): Compares each bit of the two numbers and returns 1 if the bits are different, otherwise 0.\n",
        "\n",
        "Bitwise NOT (~): Inverts the bits of the number. The result is -(n + 1) for a given number n.\n",
        "\n",
        "Left Shift (<<): Shifts the bits of the number to the left by the specified number of positions. Each shift to the left doubles the number.\n",
        "\n",
        "Right Shift (>>): Shifts the bits of the number to the right by the specified number of positions. Each shift to the right halves the number."
      ],
      "metadata": {
        "id": "GT_W18hdFaUP"
      }
    },
    {
      "cell_type": "code",
      "source": [
        "# Bitwise Operators in Python\n",
        "\n",
        "# Define two numbers\n",
        "a = 10  # Binary: 1010\n",
        "b = 4   # Binary: 0100\n",
        "\n",
        "# Bitwise AND\n",
        "bitwise_and = a & b\n",
        "print(\"Bitwise AND (a & b):\", bitwise_and)  # Output: 0 (Binary: 0000)\n",
        "\n",
        "# Bitwise OR\n",
        "bitwise_or = a | b\n",
        "print(\"Bitwise OR (a | b):\", bitwise_or)  # Output: 14 (Binary: 1110)\n",
        "\n",
        "# Bitwise XOR\n",
        "bitwise_xor = a ^ b\n",
        "print(\"Bitwise XOR (a ^ b):\", bitwise_xor)  # Output: 14 (Binary: 1110)\n",
        "\n",
        "# Bitwise NOT\n",
        "bitwise_not = ~a\n",
        "print(\"Bitwise NOT (~a):\", bitwise_not)  # Output: -11 (Binary: 1111...0101)\n",
        "\n",
        "# Bitwise Left Shift\n",
        "left_shift = a << 2\n",
        "print(\"Left Shift (a << 2):\", left_shift)  # Output: 40 (Binary: 101000)\n",
        "\n",
        "# Bitwise Right Shift\n",
        "right_shift = a >> 2\n",
        "print(\"Right Shift (a >> 2):\", right_shift)  # Output: 2 (Binary: 0010)\n"
      ],
      "metadata": {
        "colab": {
          "base_uri": "https://localhost:8080/",
          "height": 0
        },
        "id": "pUxUJNCPFbNX",
        "outputId": "f5c9515d-744e-443e-e31f-822be4a70076"
      },
      "execution_count": 3,
      "outputs": [
        {
          "output_type": "stream",
          "name": "stdout",
          "text": [
            "Bitwise AND (a & b): 0\n",
            "Bitwise OR (a | b): 14\n",
            "Bitwise XOR (a ^ b): 14\n",
            "Bitwise NOT (~a): -11\n",
            "Left Shift (a << 2): 40\n",
            "Right Shift (a >> 2): 2\n"
          ]
        }
      ]
    },
    {
      "cell_type": "markdown",
      "source": [
        "Q.4 Write a program to calculate greatest of three numbers.\n",
        "\n",
        "1.      Calculate the area of a circle.\n",
        "\n",
        "2.      Calculate the area of a triangle.\n",
        "\n",
        "3.      Calculate the area of a rectangle.\n",
        "\n",
        "4.      Calculate the area of a square.\n",
        "\n",
        "\n"
      ],
      "metadata": {
        "id": "SfB3AdhjFrTJ"
      }
    },
    {
      "cell_type": "markdown",
      "source": [
        "Q.4 Write a program to calculate greatest of three numbers.\n"
      ],
      "metadata": {
        "id": "Q-AsL3WpGNH2"
      }
    },
    {
      "cell_type": "code",
      "source": [
        "# Program to find the greatest of three numbers\n",
        "\n",
        "# Input three numbers\n",
        "a = float(input(\"Enter the first number: \"))\n",
        "b = float(input(\"Enter the second number: \"))\n",
        "c = float(input(\"Enter the third number: \"))\n",
        "\n",
        "# Determine the greatest number\n",
        "if a >= b and a >= c:\n",
        "    greatest = a\n",
        "elif b >= a and b >= c:\n",
        "    greatest = b\n",
        "else:\n",
        "    greatest = c\n",
        "\n",
        "# Output the result\n",
        "print(\"The greatest number is:\", greatest)\n"
      ],
      "metadata": {
        "colab": {
          "base_uri": "https://localhost:8080/",
          "height": 0
        },
        "id": "FZP86LAgF0rW",
        "outputId": "3d8f5ef4-6a28-4906-ae2a-cc015493dc51"
      },
      "execution_count": 4,
      "outputs": [
        {
          "output_type": "stream",
          "name": "stdout",
          "text": [
            "Enter the first number: 2\n",
            "Enter the second number: 3\n",
            "Enter the third number: 34\n",
            "The greatest number is: 34.0\n"
          ]
        }
      ]
    },
    {
      "cell_type": "markdown",
      "source": [
        "Area of a Circle:\n"
      ],
      "metadata": {
        "id": "jvEq3kKoGFwG"
      }
    },
    {
      "cell_type": "code",
      "source": [
        "import math\n",
        "\n",
        "# Program to calculate the area of a circle\n",
        "radius = float(input(\"Enter the radius of the circle: \"))\n",
        "area_circle = math.pi * radius ** 2\n",
        "print(\"The area of the circle is:\", area_circle)\n"
      ],
      "metadata": {
        "colab": {
          "base_uri": "https://localhost:8080/",
          "height": 0
        },
        "id": "ZtsvneJIGBRz",
        "outputId": "c622dd1c-116f-4533-bafe-a98bdf4067ab"
      },
      "execution_count": 5,
      "outputs": [
        {
          "output_type": "stream",
          "name": "stdout",
          "text": [
            "Enter the radius of the circle: 3\n",
            "The area of the circle is: 28.274333882308138\n"
          ]
        }
      ]
    },
    {
      "cell_type": "markdown",
      "source": [
        "Area of a Triangle:\n"
      ],
      "metadata": {
        "id": "OXVRvZErGR2K"
      }
    },
    {
      "cell_type": "code",
      "source": [
        "# Program to calculate the area of a triangle\n",
        "\n",
        "# Input the base and height of the triangle\n",
        "base = float(input(\"Enter the base of the triangle: \"))\n",
        "height = float(input(\"Enter the height of the triangle: \"))\n",
        "\n",
        "# Calculate the area\n",
        "area_triangle = 0.5 * base * height\n",
        "print(\"The area of the triangle is:\", area_triangle)\n"
      ],
      "metadata": {
        "colab": {
          "base_uri": "https://localhost:8080/",
          "height": 0
        },
        "id": "JBLdtI3BGSih",
        "outputId": "8c64e76f-fb20-477c-cc1a-417582225a76"
      },
      "execution_count": 7,
      "outputs": [
        {
          "output_type": "stream",
          "name": "stdout",
          "text": [
            "Enter the base of the triangle: 2\n",
            "Enter the height of the triangle: 3\n",
            "The area of the triangle is: 3.0\n"
          ]
        }
      ]
    },
    {
      "cell_type": "markdown",
      "source": [
        "Area of a Rectangle:\n"
      ],
      "metadata": {
        "id": "_jBfabqOGaZF"
      }
    },
    {
      "cell_type": "code",
      "source": [
        "# Program to calculate the area of a rectangle\n",
        "\n",
        "# Input the length and width of the rectangle\n",
        "length = float(input(\"Enter the length of the rectangle: \"))\n",
        "width = float(input(\"Enter the width of the rectangle: \"))\n",
        "\n",
        "# Calculate the area\n",
        "area_rectangle = length * width\n",
        "print(\"The area of the rectangle is:\", area_rectangle)\n"
      ],
      "metadata": {
        "colab": {
          "base_uri": "https://localhost:8080/",
          "height": 0
        },
        "id": "Gr9AEC6AGbV3",
        "outputId": "3f271312-cead-4e8d-d203-e205d157111b"
      },
      "execution_count": 8,
      "outputs": [
        {
          "output_type": "stream",
          "name": "stdout",
          "text": [
            "Enter the length of the rectangle: 3\n",
            "Enter the width of the rectangle: 3\n",
            "The area of the rectangle is: 9.0\n"
          ]
        }
      ]
    },
    {
      "cell_type": "markdown",
      "source": [
        "Area of a Square:\n"
      ],
      "metadata": {
        "id": "rLVRCU6oGngQ"
      }
    },
    {
      "cell_type": "code",
      "source": [
        "# Program to calculate the area of a square\n",
        "\n",
        "# Input the side length of the square\n",
        "side = float(input(\"Enter the side length of the square: \"))\n",
        "\n",
        "# Calculate the area\n",
        "area_square = side ** 2\n",
        "print(\"The area of the square is:\", area_square)\n"
      ],
      "metadata": {
        "colab": {
          "base_uri": "https://localhost:8080/",
          "height": 0
        },
        "id": "-6tMxFekGoct",
        "outputId": "bb1e22a7-bbcc-4d8f-f9f2-521d5ef29117"
      },
      "execution_count": 9,
      "outputs": [
        {
          "output_type": "stream",
          "name": "stdout",
          "text": [
            "Enter the side length of the square: 3\n",
            "The area of the square is: 9.0\n"
          ]
        }
      ]
    }
  ]
}